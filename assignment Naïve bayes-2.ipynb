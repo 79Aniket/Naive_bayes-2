{
 "cells": [
  {
   "cell_type": "markdown",
   "id": "f7bb2850-73e5-407d-9efe-f2e2a4738c7a",
   "metadata": {},
   "source": [
    "##  Q2. What is the difference between Bernoulli Naive Bayes and Multinomial Naive Bayes?"
   ]
  },
  {
   "cell_type": "markdown",
   "id": "60984fce-b9ab-49bb-92bc-c38db833b7e1",
   "metadata": {},
   "source": [
    "## The main difference between Bernoulli Naive Bayes and Multinomial Naive Bayes is the way they handle feature vectors. Bernoulli Naive Bayes assumes that each feature is binary, meaning it can only take on two values, such as 0 or 1, present or absent. Multinomial Naive Bayes, on the other hand, assumes that each feature is a count, meaning it can take on any non-negative integer value.\n",
    "## This difference in assumptions leads to different ways of calculating the probability of a given feature value for each class."
   ]
  },
  {
   "cell_type": "code",
   "execution_count": null,
   "id": "0519a7e1-f3a6-4dbc-ba7b-4a35dceacd55",
   "metadata": {},
   "outputs": [],
   "source": []
  },
  {
   "cell_type": "markdown",
   "id": "036f7e90-bc1b-4c3e-b7eb-e9befb7ac4db",
   "metadata": {},
   "source": [
    "## Q3. How does Bernoulli Naive Bayes handle missing values?"
   ]
  },
  {
   "cell_type": "markdown",
   "id": "06d7f159-5901-43bb-9b11-15de7d6ae95d",
   "metadata": {},
   "source": [
    "## Bernoulli Naive Bayes is a classification algorithm that assumes that the features are binary, meaning that they can take on only two values, such as \"true\" or \"false\" or \"present\" or \"absent\". This assumption makes it relatively straightforward to handle missing values.\n",
    "\n",
    "## There are two main approaches to handling missing values in Bernoulli Naive Bayes:\n",
    "## Ignore features with missing values.\n",
    "## Impute missing values.\n",
    "\n",
    "\n",
    "## If you choose to ignore features with missing values, you can do so by simply dropping any rows in the training data that contain missing values for any of the features. This can be done using the dropna() function in Python.\n",
    "\n",
    "## If you choose to impute missing values, you can use a variety of different methods. One common approach is to use the mean or median of the feature. For example, you could replace all missing values in the feature age with the mean age of all the people in the training data."
   ]
  },
  {
   "cell_type": "code",
   "execution_count": null,
   "id": "1ee8443d-8192-4b82-8f56-66e9fa49e1b1",
   "metadata": {},
   "outputs": [],
   "source": []
  },
  {
   "cell_type": "markdown",
   "id": "0ae46487-786e-498d-9542-0c69ee1bd2b2",
   "metadata": {},
   "source": [
    "##  Q4. Can Gaussian Naive Bayes be used for multi-class classification?"
   ]
  },
  {
   "cell_type": "markdown",
   "id": "71d88a84-cb99-4ee0-866d-55bbdc98a7ec",
   "metadata": {},
   "source": [
    "## Yes, Gaussian Naive Bayes can be used for multi-class classification. It is a variation of Naive Bayes that assumes that the features are continuous and follow a Gaussian distribution.\n",
    "## To use Gaussian Naive Bayes for multi-class classification, we simply train a separate model for each class. Each model will learn the mean and variance of the features for that particular class."
   ]
  },
  {
   "cell_type": "code",
   "execution_count": 2,
   "id": "cfe162f7-6331-4fdf-a11b-ae6ed7d4241d",
   "metadata": {},
   "outputs": [
    {
     "name": "stdout",
     "output_type": "stream",
     "text": [
      "[2]\n"
     ]
    }
   ],
   "source": [
    "import numpy as np\n",
    "from sklearn.naive_bayes import GaussianNB\n",
    "\n",
    "X_train = np.array([[1, 2], [3, 4], [5, 6]])\n",
    "y_train = np.array([0, 1, 2])\n",
    "\n",
    "clf = GaussianNB()\n",
    "\n",
    "clf.fit(X_train, y_train)\n",
    "\n",
    "X_test = np.array([[7, 8]])\n",
    "\n",
    "y_pred = clf.predict(X_test)\n",
    "print(y_pred)\n"
   ]
  },
  {
   "cell_type": "code",
   "execution_count": null,
   "id": "5c5985a7-cca1-48c8-b1fa-0420659ff6b8",
   "metadata": {},
   "outputs": [],
   "source": []
  },
  {
   "cell_type": "code",
   "execution_count": null,
   "id": "f6019808-d399-4f2f-864d-59e1df4e4a87",
   "metadata": {},
   "outputs": [],
   "source": []
  }
 ],
 "metadata": {
  "kernelspec": {
   "display_name": "Python 3 (ipykernel)",
   "language": "python",
   "name": "python3"
  },
  "language_info": {
   "codemirror_mode": {
    "name": "ipython",
    "version": 3
   },
   "file_extension": ".py",
   "mimetype": "text/x-python",
   "name": "python",
   "nbconvert_exporter": "python",
   "pygments_lexer": "ipython3",
   "version": "3.10.8"
  }
 },
 "nbformat": 4,
 "nbformat_minor": 5
}
